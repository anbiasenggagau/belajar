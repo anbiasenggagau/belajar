{
 "cells": [
  {
   "cell_type": "code",
   "execution_count": 1,
   "id": "37630ba5",
   "metadata": {},
   "outputs": [
    {
     "name": "stdout",
     "output_type": "stream",
     "text": [
      "['Rambo', 'Meng-Meng']\n"
     ]
    }
   ],
   "source": [
    "myCats = ['Rambo','Meng-Meng']\n",
    "print(myCats)"
   ]
  },
  {
   "cell_type": "markdown",
   "id": "3e96404f",
   "metadata": {},
   "source": [
    "Variable pada python bisa diassign ke tipe data yang berbeda-beda, misal sebelumnya bertipe data string, menjadi bertipe data integer"
   ]
  },
  {
   "cell_type": "code",
   "execution_count": 1,
   "id": "30138143",
   "metadata": {},
   "outputs": [],
   "source": [
    "myCats = 20"
   ]
  },
  {
   "cell_type": "code",
   "execution_count": 4,
   "id": "0c6d6ca3",
   "metadata": {},
   "outputs": [
    {
     "data": {
      "text/plain": [
       "160"
      ]
     },
     "execution_count": 4,
     "metadata": {},
     "output_type": "execute_result"
    }
   ],
   "source": [
    "myCats = myCats + myCats\n",
    "myCats"
   ]
  },
  {
   "cell_type": "code",
   "execution_count": 5,
   "id": "21d3a509",
   "metadata": {},
   "outputs": [
    {
     "data": {
      "text/plain": [
       "int"
      ]
     },
     "execution_count": 5,
     "metadata": {},
     "output_type": "execute_result"
    }
   ],
   "source": [
    "type(myCats)"
   ]
  },
  {
   "cell_type": "code",
   "execution_count": 9,
   "id": "0fada3ad",
   "metadata": {},
   "outputs": [
    {
     "data": {
      "text/plain": [
       "90.0"
      ]
     },
     "execution_count": 9,
     "metadata": {},
     "output_type": "execute_result"
    }
   ],
   "source": [
    "myIncome = 100\n",
    "\n",
    "taxRate = 0.1\n",
    "\n",
    "myTaxes = myIncome * taxRate\n",
    "myTrueIncome = myIncome - myTaxes\n",
    "myTrueIncome"
   ]
  },
  {
   "cell_type": "code",
   "execution_count": null,
   "id": "4cb1ded7",
   "metadata": {},
   "outputs": [],
   "source": []
  }
 ],
 "metadata": {
  "kernelspec": {
   "display_name": "Python 3 (ipykernel)",
   "language": "python",
   "name": "python3"
  },
  "language_info": {
   "codemirror_mode": {
    "name": "ipython",
    "version": 3
   },
   "file_extension": ".py",
   "mimetype": "text/x-python",
   "name": "python",
   "nbconvert_exporter": "python",
   "pygments_lexer": "ipython3",
   "version": "3.9.7"
  }
 },
 "nbformat": 4,
 "nbformat_minor": 5
}
