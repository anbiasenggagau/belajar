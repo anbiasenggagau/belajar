{
 "cells": [
  {
   "cell_type": "code",
   "execution_count": 1,
   "id": "dbe99c94",
   "metadata": {},
   "outputs": [
    {
     "name": "stdout",
     "output_type": "stream",
     "text": [
      "Overwriting 4. inputOutputBasic.txt\n"
     ]
    }
   ],
   "source": [
    "%%writefile \"4. inputOutputBasic.txt\"\n",
    "Hello this is a text file\n",
    "this is the second line\n",
    "this is the third line"
   ]
  },
  {
   "cell_type": "code",
   "execution_count": 2,
   "id": "da39c611",
   "metadata": {},
   "outputs": [],
   "source": [
    "myFile = open(\"4. inputOutputBasic.txt\")"
   ]
  },
  {
   "cell_type": "code",
   "execution_count": 3,
   "id": "39063d6b",
   "metadata": {},
   "outputs": [
    {
     "data": {
      "text/plain": [
       "'C:\\\\Users\\\\Senggagau\\\\PycharmProjects\\\\Jupyter Notebook'"
      ]
     },
     "execution_count": 3,
     "metadata": {},
     "output_type": "execute_result"
    }
   ],
   "source": [
    "pwd"
   ]
  },
  {
   "cell_type": "code",
   "execution_count": 4,
   "id": "e1f226a9",
   "metadata": {},
   "outputs": [
    {
     "data": {
      "text/plain": [
       "'Hello this is a text file\\nthis is the second line\\nthis is the third line\\n'"
      ]
     },
     "execution_count": 4,
     "metadata": {},
     "output_type": "execute_result"
    }
   ],
   "source": [
    "myFile.read()"
   ]
  },
  {
   "cell_type": "code",
   "execution_count": 5,
   "id": "2d59c30f",
   "metadata": {},
   "outputs": [
    {
     "data": {
      "text/plain": [
       "''"
      ]
     },
     "execution_count": 5,
     "metadata": {},
     "output_type": "execute_result"
    }
   ],
   "source": [
    "myFile.read()"
   ]
  },
  {
   "cell_type": "markdown",
   "id": "b0a43e87",
   "metadata": {},
   "source": [
    "Untuk melakukan pembacaan ulang, harus dilakukan reset peletakan kursor\n"
   ]
  },
  {
   "cell_type": "code",
   "execution_count": 6,
   "id": "5b2e0e57",
   "metadata": {},
   "outputs": [
    {
     "data": {
      "text/plain": [
       "'Hello this is a text file\\nthis is the second line\\nthis is the third line\\n'"
      ]
     },
     "execution_count": 6,
     "metadata": {},
     "output_type": "execute_result"
    }
   ],
   "source": [
    "myFile.seek(0)\n",
    "myFile.read()"
   ]
  },
  {
   "cell_type": "code",
   "execution_count": 7,
   "id": "648569a3",
   "metadata": {},
   "outputs": [
    {
     "data": {
      "text/plain": [
       "'Hello this is a text file\\nthis is the second line\\nthis is the third line\\n'"
      ]
     },
     "execution_count": 7,
     "metadata": {},
     "output_type": "execute_result"
    }
   ],
   "source": [
    "myFile.seek(0)\n",
    "content = myFile.read()\n",
    "content"
   ]
  },
  {
   "cell_type": "code",
   "execution_count": 8,
   "id": "60fe62be",
   "metadata": {},
   "outputs": [
    {
     "data": {
      "text/plain": [
       "['Hello this is a text file\\n',\n",
       " 'this is the second line\\n',\n",
       " 'this is the third line\\n']"
      ]
     },
     "execution_count": 8,
     "metadata": {},
     "output_type": "execute_result"
    }
   ],
   "source": [
    "\n",
    "myFile.seek(0)\n",
    "myFile.readlines()"
   ]
  },
  {
   "cell_type": "code",
   "execution_count": 9,
   "id": "90ec6141",
   "metadata": {},
   "outputs": [],
   "source": [
    "myFile.seek(0)\n",
    "myArray = myFile.readlines()"
   ]
  },
  {
   "cell_type": "code",
   "execution_count": 10,
   "id": "50329f3f",
   "metadata": {},
   "outputs": [
    {
     "data": {
      "text/plain": [
       "['Hello this is a text file\\n',\n",
       " 'this is the second line\\n',\n",
       " 'this is the third line\\n']"
      ]
     },
     "execution_count": 10,
     "metadata": {},
     "output_type": "execute_result"
    }
   ],
   "source": [
    "myArray"
   ]
  },
  {
   "cell_type": "code",
   "execution_count": 12,
   "id": "55452b2b",
   "metadata": {},
   "outputs": [
    {
     "data": {
      "text/plain": [
       "'this is the third line\\n'"
      ]
     },
     "execution_count": 12,
     "metadata": {},
     "output_type": "execute_result"
    }
   ],
   "source": [
    "myArray[0]\n",
    "myArray[1]\n",
    "myArray[2]"
   ]
  },
  {
   "cell_type": "code",
   "execution_count": 13,
   "id": "aac872ee",
   "metadata": {},
   "outputs": [],
   "source": [
    "myFile.close()"
   ]
  },
  {
   "cell_type": "markdown",
   "id": "bf748d15",
   "metadata": {},
   "source": [
    "Dengan menggunakan syntax di bawah, kita tidak perlu melakukan operasi close file"
   ]
  },
  {
   "cell_type": "code",
   "execution_count": 14,
   "id": "1dcbd077",
   "metadata": {},
   "outputs": [],
   "source": [
    "with open(\"4. inputOutputBasic.txt\") as myFile:\n",
    "    content = myFile.read()"
   ]
  },
  {
   "cell_type": "code",
   "execution_count": 15,
   "id": "84b3f39e",
   "metadata": {},
   "outputs": [
    {
     "data": {
      "text/plain": [
       "'Hello this is a text file\\nthis is the second line\\nthis is the third line\\n'"
      ]
     },
     "execution_count": 15,
     "metadata": {},
     "output_type": "execute_result"
    }
   ],
   "source": [
    "content"
   ]
  },
  {
   "cell_type": "markdown",
   "id": "e7cc8fb7",
   "metadata": {},
   "source": [
    "menulis sesuatu pada file"
   ]
  },
  {
   "cell_type": "code",
   "execution_count": 17,
   "id": "90e0fcb2",
   "metadata": {},
   "outputs": [
    {
     "name": "stdout",
     "output_type": "stream",
     "text": [
      "Writing 4. newFile.txt\n"
     ]
    }
   ],
   "source": [
    "%%writefile \"4. newFile.txt\"\n",
    "ONE ON FIRST\n",
    "TWO ON SECOND\n",
    "THREE ON SECOND"
   ]
  },
  {
   "cell_type": "code",
   "execution_count": 19,
   "id": "628c9a53",
   "metadata": {},
   "outputs": [],
   "source": [
    "with open('4. newFile.txt', mode='a') as myFile:\n",
    "    myFile.write('FOUR ON FOURTH')"
   ]
  },
  {
   "cell_type": "code",
   "execution_count": 20,
   "id": "5806b2be",
   "metadata": {},
   "outputs": [
    {
     "name": "stdout",
     "output_type": "stream",
     "text": [
      "ONE ON FIRST\n",
      "TWO ON SECOND\n",
      "THREE ON SECOND\n",
      "FOUR ON FOURTH\n"
     ]
    }
   ],
   "source": [
    "with open(\"4. newFile.txt\") as myFile:\n",
    "    print(myFile.read())"
   ]
  },
  {
   "cell_type": "code",
   "execution_count": null,
   "id": "d3478912",
   "metadata": {},
   "outputs": [],
   "source": []
  }
 ],
 "metadata": {
  "kernelspec": {
   "display_name": "Python 3 (ipykernel)",
   "language": "python",
   "name": "python3"
  },
  "language_info": {
   "codemirror_mode": {
    "name": "ipython",
    "version": 3
   },
   "file_extension": ".py",
   "mimetype": "text/x-python",
   "name": "python",
   "nbconvert_exporter": "python",
   "pygments_lexer": "ipython3",
   "version": "3.9.7"
  }
 },
 "nbformat": 4,
 "nbformat_minor": 5
}
