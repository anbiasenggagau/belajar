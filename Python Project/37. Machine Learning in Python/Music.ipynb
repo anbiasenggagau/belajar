{
 "cells": [
  {
   "cell_type": "code",
   "execution_count": 4,
   "id": "9d65ab57",
   "metadata": {},
   "outputs": [
    {
     "data": {
      "text/plain": [
       "array(['HipHop', 'Dance'], dtype=object)"
      ]
     },
     "execution_count": 4,
     "metadata": {},
     "output_type": "execute_result"
    }
   ],
   "source": [
    "#Regresi dari dataset\n",
    "\n",
    "import pandas as pd\n",
    "from sklearn.tree import DecisionTreeClassifier\n",
    "from sklearn.model_selection import train_test_split\n",
    "from sklearn.metrics import accuracy_score\n",
    "\n",
    "music = pd.read_csv('File Excel\\music.csv')\n",
    "x = music.drop(columns=['genre'])\n",
    "y = music['genre']\n",
    "\n",
    "model = DecisionTreeClassifier()\n",
    "model.fit(x,y)\n",
    "prediction = model.predict ([ [21,1], [22,0] ])\n",
    "\n",
    "prediction"
   ]
  },
  {
   "cell_type": "code",
   "execution_count": 108,
   "id": "5a05a9e5",
   "metadata": {},
   "outputs": [
    {
     "data": {
      "text/plain": [
       "0.0"
      ]
     },
     "execution_count": 108,
     "metadata": {},
     "output_type": "execute_result"
    }
   ],
   "source": [
    "#Pengecekan akurasi regresi dari dataset\n",
    "\n",
    "import pandas as pd\n",
    "from sklearn.tree import DecisionTreeClassifier\n",
    "from sklearn.model_selection import train_test_split\n",
    "from sklearn.metrics import accuracy_score\n",
    "\n",
    "x_train, x_test, y_train, y_test = train_test_split(x,y,test_size=0.1)\n",
    "\n",
    "model = DecisionTreeClassifier()\n",
    "model.fit(x_train,y_train)\n",
    "prediction = model.predict(x_test)\n",
    "\n",
    "acc =accuracy_score(y_test, prediction)\n",
    "acc"
   ]
  },
  {
   "cell_type": "code",
   "execution_count": 112,
   "id": "3afce33e",
   "metadata": {},
   "outputs": [
    {
     "data": {
      "text/plain": [
       "['music-recommendder.joblib']"
      ]
     },
     "execution_count": 112,
     "metadata": {},
     "output_type": "execute_result"
    }
   ],
   "source": [
    "#Menyimpan hasil model yang sudah belajar\n",
    "\n",
    "import pandas as pd\n",
    "from sklearn.tree import DecisionTreeClassifier\n",
    "from sklearn.model_selection import train_test_split\n",
    "import joblib\n",
    "\n",
    "x_train, x_test, y_train, y_test = train_test_split(x,y,test_size=0.1)\n",
    "\n",
    "model = DecisionTreeClassifier()\n",
    "model.fit(x_train,y_train)\n",
    "\n",
    "joblib.dump(model, 'music-recommendder.joblib')"
   ]
  },
  {
   "cell_type": "code",
   "execution_count": 115,
   "id": "4fb47b86",
   "metadata": {},
   "outputs": [
    {
     "data": {
      "text/plain": [
       "array(['HipHop'], dtype=object)"
      ]
     },
     "execution_count": 115,
     "metadata": {},
     "output_type": "execute_result"
    }
   ],
   "source": [
    "#Memuat hasil model yang sudah belajar sebelumnya\n",
    "\n",
    "import joblib\n",
    "from sklearn.tree import DecisionTreeClassifier\n",
    "from sklearn.model_selection import train_test_split\n",
    "\n",
    "model = joblib.load('music-recommendder.joblib')\n",
    "\n",
    "prediction = model.predict([[21,1]])\n",
    "prediction"
   ]
  }
 ],
 "metadata": {
  "kernelspec": {
   "display_name": "Python 3",
   "language": "python",
   "name": "python3"
  },
  "language_info": {
   "codemirror_mode": {
    "name": "ipython",
    "version": 3
   },
   "file_extension": ".py",
   "mimetype": "text/x-python",
   "name": "python",
   "nbconvert_exporter": "python",
   "pygments_lexer": "ipython3",
   "version": "3.8.8"
  }
 },
 "nbformat": 4,
 "nbformat_minor": 5
}
